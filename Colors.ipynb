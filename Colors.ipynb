{
 "cells": [
  {
   "cell_type": "code",
   "execution_count": 1,
   "metadata": {
    "collapsed": false
   },
   "outputs": [],
   "source": [
    "import numpy as np\n",
    "import pandas as pd\n",
    "import matplotlib\n",
    "import matplotlib.pyplot as plt\n",
    "import colour\n",
    "import colour.colorimetry as color\n",
    "\n",
    "%matplotlib inline"
   ]
  },
  {
   "cell_type": "code",
   "execution_count": 2,
   "metadata": {
    "collapsed": false
   },
   "outputs": [],
   "source": [
    "xc1 = np.poly1d((-0.2661239, -0.2343580, 0.8776956, 0.177910))\n",
    "xc2 = np.poly1d((-3.0258469, 2.1070379, 0.2226347, 0.240390))\n",
    "\n",
    "yc1 = np.poly1d((-1.1063814, -1.34811020, 2.18555832, -0.20219683))\n",
    "yc2 = np.poly1d((-0.9549476, -1.37418593, 2.09137015, -0.16748867))\n",
    "yc3 = np.poly1d((3.0817580, -5.87338670, 3.75112997, -0.37001483))"
   ]
  },
  {
   "cell_type": "code",
   "execution_count": 3,
   "metadata": {
    "collapsed": false
   },
   "outputs": [],
   "source": [
    "def xy(T):\n",
    "    x = np.piecewise(1000/T, [T < 1667, T <= 4000, T <= 25000], [np.nan, xc1, xc2, np.nan])\n",
    "    y = np.piecewise(x, [T < 1667, T <= 2222, T <= 4000, T <= 25000], [np.nan, yc1, yc2, yc3, np.nan])\n",
    "    return x, y"
   ]
  },
  {
   "cell_type": "code",
   "execution_count": 4,
   "metadata": {
    "collapsed": false
   },
   "outputs": [],
   "source": [
    "XYZ2RGB = np.array(\n",
    "    [[3.2406, -1.5372, -0.04986],\n",
    "    [-0.9689, 1.8758, 0.0415],\n",
    "    [0.0577, -0.02040, 1.0570]]\n",
    ")"
   ]
  },
  {
   "cell_type": "code",
   "execution_count": 5,
   "metadata": {
    "collapsed": false
   },
   "outputs": [],
   "source": [
    "def XYZ(xy):\n",
    "    x, y = xy\n",
    "    Y = np.piecewise(y, [y == 0], [0, 1])\n",
    "    with np.errstate(divide='ignore'):\n",
    "        X = x * Y / y\n",
    "        X[y == 0] = 0\n",
    "        Z = (1 - x - y) * Y / y\n",
    "        Z[y == 0] = 0\n",
    "        return np.stack((X, Y, Z))\n",
    "    \n",
    "def RGB(XYZ):\n",
    "    return np.dot(XYZ2RGB, XYZ).T"
   ]
  },
  {
   "cell_type": "code",
   "execution_count": 6,
   "metadata": {
    "collapsed": false
   },
   "outputs": [
    {
     "data": {
      "text/plain": [
       "(array([ 0.47291574]), array([ 0.41632391]))"
      ]
     },
     "execution_count": 6,
     "metadata": {},
     "output_type": "execute_result"
    }
   ],
   "source": [
    "xy(np.array([2500]))"
   ]
  },
  {
   "cell_type": "code",
   "execution_count": 7,
   "metadata": {
    "collapsed": false
   },
   "outputs": [
    {
     "ename": "NameError",
     "evalue": "name 'T' is not defined",
     "output_type": "error",
     "traceback": [
      "\u001b[1;31m---------------------------------------------------------------------------\u001b[0m",
      "\u001b[1;31mNameError\u001b[0m                                 Traceback (most recent call last)",
      "\u001b[1;32m<ipython-input-7-2a3ca1504234>\u001b[0m in \u001b[0;36m<module>\u001b[1;34m()\u001b[0m\n\u001b[1;32m----> 1\u001b[1;33m \u001b[0mnp\u001b[0m\u001b[1;33m.\u001b[0m\u001b[0mdot\u001b[0m\u001b[1;33m(\u001b[0m\u001b[1;33m[\u001b[0m\u001b[1;33m-\u001b[0m\u001b[1;36m0.9689\u001b[0m\u001b[1;33m,\u001b[0m \u001b[1;36m1.8758\u001b[0m\u001b[1;33m,\u001b[0m \u001b[1;36m0.0415\u001b[0m\u001b[1;33m]\u001b[0m\u001b[1;33m,\u001b[0m \u001b[0mXYZ\u001b[0m\u001b[1;33m(\u001b[0m\u001b[0mxy\u001b[0m\u001b[1;33m(\u001b[0m\u001b[0mT\u001b[0m\u001b[1;33m)\u001b[0m\u001b[1;33m)\u001b[0m\u001b[1;33m[\u001b[0m\u001b[1;33m:\u001b[0m\u001b[1;33m,\u001b[0m\u001b[1;36m0\u001b[0m\u001b[1;33m]\u001b[0m\u001b[1;33m)\u001b[0m\u001b[1;33m\u001b[0m\u001b[0m\n\u001b[0m",
      "\u001b[1;31mNameError\u001b[0m: name 'T' is not defined"
     ]
    }
   ],
   "source": [
    "np.dot([-0.9689, 1.8758, 0.0415], XYZ(xy(T))[:,0])"
   ]
  },
  {
   "cell_type": "code",
   "execution_count": 143,
   "metadata": {
    "collapsed": false
   },
   "outputs": [
    {
     "data": {
      "text/plain": [
       "array([ 2.19717262,  0.76537476,  0.28902826])"
      ]
     },
     "execution_count": 143,
     "metadata": {},
     "output_type": "execute_result"
    }
   ],
   "source": [
    "np.dot(XYZ2RGB, XYZ(xy(T)))[:,0]"
   ]
  },
  {
   "cell_type": "code",
   "execution_count": 8,
   "metadata": {
    "collapsed": true
   },
   "outputs": [],
   "source": [
    "def gamma(RGB, a=0.055):\n",
    "    RGB[RGB > 1] = 1\n",
    "    return np.piecewise(RGB, [RGB <= 0.0031308], [lambda C: 12.92*C, lambda C: (1+a)*np.power(C, 1/2.4)-a])"
   ]
  },
  {
   "cell_type": "code",
   "execution_count": 9,
   "metadata": {
    "collapsed": true
   },
   "outputs": [],
   "source": [
    "def T2RGB(T):\n",
    "    t = T/100\n",
    "    t = np.piecewise(t, [t < 10, t <= 400], [np.nan, t, np.nan])\n",
    "    r = np.piecewise(t, [t <= 66],\n",
    "                     [1, lambda t: 1.29293618606 * np.power(t - 60, -0.1332047592)])\n",
    "    g = np.piecewise(t, [t <= 66],\n",
    "                     [lambda t: 0.39008157876 * np.log(t) - 0.63184144378,\n",
    "                     lambda t: 1.1298908609 * np.power(t - 60, -0.0755148492)])\n",
    "    b = np.piecewise(t, [t <= 19, t < 66],\n",
    "                    [0,\n",
    "                    lambda t: 0.54320678911 * np.log(t - 10) - 1.19625408914,\n",
    "                    1])\n",
    "    rgb = np.vstack((r, g, b)).T\n",
    "    rgb[rgb > 1] = 1\n",
    "    rgb[rgb < 0] = 0\n",
    "    return rgb"
   ]
  },
  {
   "cell_type": "code",
   "execution_count": 19,
   "metadata": {
    "collapsed": false
   },
   "outputs": [],
   "source": [
    "T = np.linspace(798, 25000, 100)\n",
    "rgb = T2RGB(T)"
   ]
  },
  {
   "cell_type": "code",
   "execution_count": 20,
   "metadata": {
    "collapsed": false
   },
   "outputs": [
    {
     "data": {
      "text/plain": [
       "<matplotlib.image.AxesImage at 0x1f15e798320>"
      ]
     },
     "execution_count": 20,
     "metadata": {},
     "output_type": "execute_result"
    },
    {
     "data": {
      "image/png": "[encoded data removed]",
      "text/plain": [
       "<matplotlib.figure.Figure at 0x1f15e625e10>"
      ]
     },
     "metadata": {},
     "output_type": "display_data"
    }
   ],
   "source": [
    "plt.imshow(np.stack((rgb,)*20))"
   ]
  },
  {
   "cell_type": "code",
   "execution_count": null,
   "metadata": {
    "collapsed": true
   },
   "outputs": [],
   "source": []
  }
 ],
 "metadata": {
  "kernelspec": {
   "display_name": "Python 3",
   "language": "python",
   "name": "python3"
  },
  "language_info": {
   "codemirror_mode": {
    "name": "ipython",
    "version": 3
   },
   "file_extension": ".py",
   "mimetype": "text/x-python",
   "name": "python",
   "nbconvert_exporter": "python",
   "pygments_lexer": "ipython3",
   "version": "3.5.1"
  }
 },
 "nbformat": 4,
 "nbformat_minor": 0
}
